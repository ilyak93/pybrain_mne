{
 "cells": [
  {
   "cell_type": "markdown",
   "metadata": {},
   "source": [
    "# Multivariate Statistics (Decoding / MVPA) on MEG/EEG Data"
   ]
  },
  {
   "cell_type": "code",
   "execution_count": null,
   "metadata": {},
   "outputs": [],
   "source": [
    "%matplotlib qt"
   ]
  },
  {
   "cell_type": "code",
   "execution_count": null,
   "metadata": {},
   "outputs": [],
   "source": [
    "import pathlib\n",
    "import matplotlib\n",
    "import matplotlib.pyplot as plt\n",
    "import mne\n",
    "\n",
    "matplotlib.use('Qt5Agg')\n",
    "mne.set_log_level('warning')"
   ]
  },
  {
   "cell_type": "markdown",
   "metadata": {},
   "source": [
    "## Load epochs"
   ]
  },
  {
   "cell_type": "code",
   "execution_count": null,
   "metadata": {},
   "outputs": [],
   "source": [
    "epochs = mne.read_epochs(pathlib.Path('out_data') / 'epochs_epo.fif')\n",
    "epochs.apply_baseline((None, 0))\n",
    "epochs"
   ]
  },
  {
   "cell_type": "markdown",
   "metadata": {},
   "source": [
    "## Select epochs of interest\n",
    "\n",
    "Here, we intend to analyze the auditory epochs."
   ]
  },
  {
   "cell_type": "code",
   "execution_count": null,
   "metadata": {},
   "outputs": [],
   "source": [
    "epochs_auditory = epochs['Auditory']\n",
    "epochs_auditory"
   ]
  },
  {
   "cell_type": "markdown",
   "metadata": {},
   "source": [
    "## Calculate empirical evoked difference"
   ]
  },
  {
   "cell_type": "code",
   "execution_count": null,
   "metadata": {},
   "outputs": [],
   "source": [
    "evoked_diff = mne.combine_evoked(\n",
    "    [epochs_auditory['Auditory/Left'].average(),\n",
    "     epochs_auditory['Auditory/Right'].average()],\n",
    "    weights=[1, -1]  # Subtraction\n",
    ")\n",
    "\n",
    "evoked_diff.plot(gfp=True)\n",
    "mne.viz.plot_compare_evokeds(\n",
    "    [epochs_auditory['Auditory/Left'].average(),\n",
    "     epochs_auditory['Auditory/Right'].average(),\n",
    "     evoked_diff]\n",
    ")"
   ]
  },
  {
   "cell_type": "markdown",
   "metadata": {},
   "source": [
    "Okay, but… we want more than that! Let's do some machine learning."
   ]
  },
  {
   "cell_type": "markdown",
   "metadata": {},
   "source": [
    "## Equalize the number of epochs"
   ]
  },
  {
   "cell_type": "markdown",
   "metadata": {},
   "source": [
    "To keep chance level at 50% accuracy, we first equalize the number of epochs in each condition."
   ]
  },
  {
   "cell_type": "code",
   "execution_count": null,
   "metadata": {
    "tags": []
   },
   "outputs": [],
   "source": [
    "epochs_auditory.equalize_event_counts(epochs_auditory.event_id)\n",
    "epochs_auditory"
   ]
  },
  {
   "cell_type": "markdown",
   "metadata": {},
   "source": [
    "## Create input `X` and response `y`."
   ]
  },
  {
   "cell_type": "markdown",
   "metadata": {},
   "source": [
    "A classifier takes as input a matrix `X` and returns a vector `y` (consisting of `0` and `1`). Here `X` will be the **data at one time point on all gradiometers** (hence the term multivariate). We want to train our model to discriminate between the  `Auditory/Left` and the `Auditory/Right` trials.\n",
    "\n",
    "We work with all sensors jointly and try to find a discriminative pattern between the two conditions to predict the experimental condition of individual trials.\n",
    "\n",
    "For classification we will use the `scikit-learn` package (http://scikit-learn.org/) and MNE-Python functions.\n",
    "\n",
    "Let's first create the response vector, `y`."
   ]
  },
  {
   "cell_type": "code",
   "execution_count": null,
   "metadata": {
    "tags": []
   },
   "outputs": [],
   "source": [
    "import numpy as np\n",
    "\n",
    "# Create an vector with length = no. of trials.\n",
    "y = np.empty(len(epochs_auditory.events), dtype=int)  \n",
    "\n",
    "# Which trials are LEFT, which are RIGHT?\n",
    "idx_left = epochs_auditory.events[:, 2] == epochs_auditory.event_id['Auditory/Left']\n",
    "idx_right = epochs_auditory.events[:, 2] == epochs_auditory.event_id['Auditory/Right']\n",
    "\n",
    "# Encode: LEFT = 0, RIGHT = 1.\n",
    "y[idx_left] = 0\n",
    "y[idx_right] = 1\n",
    "\n",
    "print(y)\n",
    "print(f'\\nSize of y: {y.size}')"
   ]
  },
  {
   "cell_type": "markdown",
   "metadata": {},
   "source": [
    "Now, let's create the input matrix, `X`.\n",
    "\n",
    "We wish to focus only on the gradiometer channels here, so we use\n",
    "`pick_types(meg='grad')`. For magnetometer channels, we would need to\n",
    "pass `meg='mag'`; and for EEG channels: `meg=False, eeg=True`.\n",
    "We create a copy of the epochs because `pick_types()` operates in-place,\n",
    "but we would like to keep the original epochs object untouched.\n"
   ]
  },
  {
   "cell_type": "code",
   "execution_count": null,
   "metadata": {
    "tags": []
   },
   "outputs": [],
   "source": [
    "epochs_auditory_grad = epochs_auditory.copy().pick_types(meg='grad')\n",
    "\n",
    "# Retrieve the data as a NumPy array.\n",
    "# The array has the shape: (n_trials, n_channels, n_timepoints)\n",
    "data = epochs_auditory_grad.get_data()\n",
    "print(data.shape)"
   ]
  },
  {
   "cell_type": "markdown",
   "metadata": {},
   "source": [
    "We're almost there! We need to reshape the array such that for each trial, we have a vector `[channel_1_time_1, channel_1_time_2, ..., channel_m_time_n]`, i.e., we aim to reshape `X` to the dimension `(n_trials, n_channels * n_timepoints)`."
   ]
  },
  {
   "cell_type": "code",
   "execution_count": null,
   "metadata": {
    "tags": []
   },
   "outputs": [],
   "source": [
    "n_trials = data.shape[0]\n",
    "\n",
    "X = data.reshape(n_trials, -1)\n",
    "print(X.shape)"
   ]
  },
  {
   "cell_type": "markdown",
   "metadata": {},
   "source": [
    "### Create a classifier!"
   ]
  },
  {
   "cell_type": "markdown",
   "metadata": {},
   "source": [
    "We will use plain `scikit-learn` machinery for the first round of classifications. This is to demonstrate that you can simply feed pre-processed data from MNE into `scikit-learn`."
   ]
  },
  {
   "cell_type": "code",
   "execution_count": null,
   "metadata": {
    "tags": []
   },
   "outputs": [],
   "source": [
    "from sklearn.model_selection import StratifiedKFold, cross_val_score\n",
    "from sklearn.linear_model import LogisticRegression\n",
    "from sklearn.preprocessing import StandardScaler\n",
    "from sklearn.pipeline import make_pipeline\n",
    "\n",
    "\n",
    "# The classifier pipeline: it is extremely important to scale the data\n",
    "# before running the actual classifier (logistic regression in our case).\n",
    "clf = make_pipeline(StandardScaler(),\n",
    "                    LogisticRegression())\n",
    "\n",
    "# Run cross-validation.\n",
    "# CV without shuffling – \"block cross-validation\" – is what we want here\n",
    "# (scikit-learn doesn't shuffle by default, which is good for us).\n",
    "n_splits = 5\n",
    "scoring = 'roc_auc'\n",
    "cv = StratifiedKFold(n_splits=n_splits)\n",
    "scores = cross_val_score(clf, X=X, y=y, cv=cv, scoring=scoring)\n",
    "\n",
    "# Mean and standard deviation of ROC AUC across cross-validation runs.\n",
    "roc_auc_mean = round(np.mean(scores), 3)\n",
    "roc_auc_std = round(np.std(scores), 3)\n",
    "\n",
    "print(f'CV scores: {scores}')\n",
    "print(f'Mean ROC AUC = {roc_auc_mean:.3f} (SD = {roc_auc_std:.3f})')"
   ]
  },
  {
   "cell_type": "markdown",
   "metadata": {},
   "source": [
    "### Visualize the cross-validation results.\n"
   ]
  },
  {
   "cell_type": "code",
   "execution_count": null,
   "metadata": {},
   "outputs": [],
   "source": [
    "fig, ax = plt.subplots()\n",
    "ax.boxplot(scores,\n",
    "           showmeans=True, # Green triangle marks the mean.\n",
    "           whis=(0, 100),  # Whiskers span the entire range of the data.\n",
    "           labels=['Left vs Right'])\n",
    "ax.set_ylabel('Score')\n",
    "ax.set_title('Cross-Validation Scores')"
   ]
  },
  {
   "cell_type": "markdown",
   "metadata": {},
   "source": [
    "## We can do this more simply using the `mne.decoding` module! Let's go. 🚀"
   ]
  },
  {
   "cell_type": "code",
   "execution_count": null,
   "metadata": {
    "tags": []
   },
   "outputs": [],
   "source": [
    "from sklearn.pipeline import make_pipeline\n",
    "from mne.decoding import Scaler, Vectorizer, cross_val_multiscore\n",
    "\n",
    "# First, create X and y.\n",
    "epochs_auditory_grad = epochs_auditory.copy().pick_types(meg='grad')\n",
    "X = epochs_auditory_grad.get_data()\n",
    "y = epochs_auditory_grad.events[:, 2]\n",
    "\n",
    "# Classifier pipeline.\n",
    "clf = make_pipeline(\n",
    "    # An MNE scaler that correctly handles different channel types –\n",
    "    # isn't that great?!\n",
    "    Scaler(epochs_grad.info),\n",
    "    # Remember this annoying and error-prone NumPy array reshaping we had to do\n",
    "    # earlier? Not anymore, thanks to the MNE vectorizer!\n",
    "    Vectorizer(),\n",
    "    # And, finally, the actual classifier.\n",
    "    LogisticRegression())\n",
    "\n",
    "# Run cross-validation.\n",
    "# Note that we're using MNE's cross_val_multiscore() here, not scikit-learn's\n",
    "# cross_val_score() as above. We simply pass the number of desired CV splits,\n",
    "# and MNE will automatically do the rest for us.\n",
    "n_splits = 5\n",
    "scoring = 'roc_auc'\n",
    "scores = cross_val_multiscore(clf, X, y, cv=5, scoring='roc_auc')\n",
    "\n",
    "# Mean and standard deviation of ROC AUC across cross-validation runs.\n",
    "roc_auc_mean = round(np.mean(scores), 3)\n",
    "roc_auc_std = round(np.std(scores), 3)\n",
    "\n",
    "print(f'CV scores: {scores}')\n",
    "print(f'Mean ROC AUC = {roc_auc_mean:.3f} (SD = {roc_auc_std:.3f})')"
   ]
  },
  {
   "cell_type": "markdown",
   "metadata": {},
   "source": [
    "## Decoding over time: Comparisons at every single time point."
   ]
  },
  {
   "cell_type": "markdown",
   "metadata": {},
   "source": [
    "In the previous examples, we have trained a classifier to discriminate between experimental conditions by using the spatio-temporal patterns of **entire trials**. Consequently, the classifier was (hopefully!) able to predict which activation patterns belonged to which condition. \n",
    "\n",
    "However, an interesting neuroscientific is: **Exactly *when* do the brain signals for two conditions differ?**\n",
    "\n",
    "We can try to answer this question by fitting a classifier **at every single time point.** If the classifier can successfully discriminate between the two conditions, we can conclude that the spatial activation patterns measured by the MEG or EEG sensors differed **at this very time point**."
   ]
  },
  {
   "cell_type": "code",
   "execution_count": null,
   "metadata": {
    "tags": []
   },
   "outputs": [],
   "source": [
    "from sklearn.preprocessing import StandardScaler\n",
    "from mne.decoding import SlidingEstimator\n",
    "\n",
    "# First, create X and y.\n",
    "epochs_auditory_grad = epochs_auditory.copy().pick_types(meg='grad')\n",
    "X = epochs_auditory_grad.get_data()\n",
    "y = epochs_auditory_grad.events[:, 2]\n",
    "\n",
    "# Classifier pipeline. No need for vectorization as in the previous example.\n",
    "clf = make_pipeline(StandardScaler(),\n",
    "                    LogisticRegression())\n",
    "\n",
    "# The \"sliding estimator\" will train the classifier at each time point.\n",
    "scoring = 'roc_auc'\n",
    "time_decoder = SlidingEstimator(clf, scoring=scoring, n_jobs=1, verbose=True)\n",
    "\n",
    "# Run cross-validation.\n",
    "n_splits = 5\n",
    "scores = cross_val_multiscore(time_decoder, X, y, cv=5, n_jobs=1)\n",
    "\n",
    "# Mean scores across cross-validation splits, for each time point.\n",
    "mean_scores = np.mean(scores, axis=0)\n",
    "\n",
    "# Mean score across all time points.\n",
    "mean_across_all_times = round(np.mean(scores), 3)\n",
    "print(f'\\n=> Mean CV score across all time points: {mean_across_all_times:.3f}')"
   ]
  },
  {
   "cell_type": "markdown",
   "metadata": {},
   "source": [
    "### Plot the classification results!"
   ]
  },
  {
   "cell_type": "code",
   "execution_count": null,
   "metadata": {},
   "outputs": [],
   "source": [
    "fig, ax = plt.subplots()\n",
    "\n",
    "ax.axhline(0.5, color='k', linestyle='--', label='chance')  # AUC = 0.5\n",
    "ax.axvline(0, color='k', linestyle='-')  # Mark time point zero.\n",
    "ax.plot(epochs.times, mean_scores, label='score')\n",
    "\n",
    "ax.set_xlabel('Time (s)')\n",
    "ax.set_ylabel('Mean ROC AUC')\n",
    "ax.legend()\n",
    "ax.set_title('Left vs Right')\n",
    "fig.suptitle('Sensor Space Decoding')"
   ]
  }
 ],
 "metadata": {
  "kernelspec": {
   "display_name": "Python 3",
   "language": "python",
   "name": "python3"
  },
  "language_info": {
   "codemirror_mode": {
    "name": "ipython",
    "version": 3
   },
   "file_extension": ".py",
   "mimetype": "text/x-python",
   "name": "python",
   "nbconvert_exporter": "python",
   "pygments_lexer": "ipython3",
   "version": "3.8.5"
  }
 },
 "nbformat": 4,
 "nbformat_minor": 4
}
