{
 "cells": [
  {
   "cell_type": "markdown",
   "metadata": {},
   "source": [
    "# Loading EEGLAB epochs and setting the proper montage (electrode locations) for EEG data"
   ]
  },
  {
   "cell_type": "code",
   "execution_count": 1,
   "metadata": {},
   "outputs": [],
   "source": [
    "import pathlib\n",
    "import matplotlib\n",
    "\n",
    "import mne\n",
    "\n",
    "matplotlib.use('Qt5Agg')\n",
    "mne.set_log_level('warning')"
   ]
  },
  {
   "cell_type": "markdown",
   "metadata": {},
   "source": [
    "## Load preprocessed EEGLAB data"
   ]
  },
  {
   "cell_type": "code",
   "execution_count": 2,
   "metadata": {},
   "outputs": [
    {
     "ename": "FileNotFoundError",
     "evalue": "File does not exist: F:\\GithubRep\\pybrain_mne\\eeg_montage_data\\sample_eeglab_epochs.set",
     "output_type": "error",
     "traceback": [
      "\u001b[1;31m---------------------------------------------------------------------------\u001b[0m",
      "\u001b[1;31mFileNotFoundError\u001b[0m                         Traceback (most recent call last)",
      "\u001b[1;32m<ipython-input-2-f0b92550ac11>\u001b[0m in \u001b[0;36m<module>\u001b[1;34m\u001b[0m\n\u001b[0;32m      1\u001b[0m \u001b[0mepochs_fname\u001b[0m \u001b[1;33m=\u001b[0m \u001b[0mpathlib\u001b[0m\u001b[1;33m.\u001b[0m\u001b[0mPath\u001b[0m\u001b[1;33m(\u001b[0m\u001b[1;34m'eeg_montage_data'\u001b[0m\u001b[1;33m)\u001b[0m \u001b[1;33m/\u001b[0m \u001b[1;34m'sample_eeglab_epochs.set'\u001b[0m\u001b[1;33m\u001b[0m\u001b[1;33m\u001b[0m\u001b[0m\n\u001b[1;32m----> 2\u001b[1;33m \u001b[0mepochs\u001b[0m \u001b[1;33m=\u001b[0m \u001b[0mmne\u001b[0m\u001b[1;33m.\u001b[0m\u001b[0mread_epochs_eeglab\u001b[0m\u001b[1;33m(\u001b[0m\u001b[0mepochs_fname\u001b[0m\u001b[1;33m)\u001b[0m\u001b[1;33m\u001b[0m\u001b[1;33m\u001b[0m\u001b[0m\n\u001b[0m",
      "\u001b[1;32mF:\\anaconda3\\lib\\site-packages\\mne\\io\\eeglab\\eeglab.py\u001b[0m in \u001b[0;36mread_epochs_eeglab\u001b[1;34m(input_fname, events, event_id, eog, verbose, uint16_codec)\u001b[0m\n\u001b[0;32m    273\u001b[0m     \u001b[1;33m.\u001b[0m\u001b[1;33m.\u001b[0m \u001b[0mversionadded\u001b[0m\u001b[1;33m:\u001b[0m\u001b[1;33m:\u001b[0m \u001b[1;36m0.11\u001b[0m\u001b[1;36m.0\u001b[0m\u001b[1;33m\u001b[0m\u001b[1;33m\u001b[0m\u001b[0m\n\u001b[0;32m    274\u001b[0m     \"\"\"\n\u001b[1;32m--> 275\u001b[1;33m     epochs = EpochsEEGLAB(input_fname=input_fname, events=events, eog=eog,\n\u001b[0m\u001b[0;32m    276\u001b[0m                           \u001b[0mevent_id\u001b[0m\u001b[1;33m=\u001b[0m\u001b[0mevent_id\u001b[0m\u001b[1;33m,\u001b[0m \u001b[0mverbose\u001b[0m\u001b[1;33m=\u001b[0m\u001b[0mverbose\u001b[0m\u001b[1;33m,\u001b[0m\u001b[1;33m\u001b[0m\u001b[1;33m\u001b[0m\u001b[0m\n\u001b[0;32m    277\u001b[0m                           uint16_codec=uint16_codec)\n",
      "\u001b[1;32m<decorator-gen-261>\u001b[0m in \u001b[0;36m__init__\u001b[1;34m(self, input_fname, events, event_id, tmin, baseline, reject, flat, reject_tmin, reject_tmax, eog, verbose, uint16_codec)\u001b[0m\n",
      "\u001b[1;32mF:\\anaconda3\\lib\\site-packages\\mne\\io\\eeglab\\eeglab.py\u001b[0m in \u001b[0;36m__init__\u001b[1;34m(self, input_fname, events, event_id, tmin, baseline, reject, flat, reject_tmin, reject_tmax, eog, verbose, uint16_codec)\u001b[0m\n\u001b[0;32m    447\u001b[0m                  \u001b[0mreject_tmax\u001b[0m\u001b[1;33m=\u001b[0m\u001b[1;32mNone\u001b[0m\u001b[1;33m,\u001b[0m \u001b[0meog\u001b[0m\u001b[1;33m=\u001b[0m\u001b[1;33m(\u001b[0m\u001b[1;33m)\u001b[0m\u001b[1;33m,\u001b[0m \u001b[0mverbose\u001b[0m\u001b[1;33m=\u001b[0m\u001b[1;32mNone\u001b[0m\u001b[1;33m,\u001b[0m\u001b[1;33m\u001b[0m\u001b[1;33m\u001b[0m\u001b[0m\n\u001b[0;32m    448\u001b[0m                  uint16_codec=None):  # noqa: D102\n\u001b[1;32m--> 449\u001b[1;33m         input_fname = _check_fname(fname=input_fname, must_exist=True,\n\u001b[0m\u001b[0;32m    450\u001b[0m                                    overwrite='read')\n\u001b[0;32m    451\u001b[0m         \u001b[0meeg\u001b[0m \u001b[1;33m=\u001b[0m \u001b[0m_check_load_mat\u001b[0m\u001b[1;33m(\u001b[0m\u001b[0minput_fname\u001b[0m\u001b[1;33m,\u001b[0m \u001b[0muint16_codec\u001b[0m\u001b[1;33m)\u001b[0m\u001b[1;33m\u001b[0m\u001b[1;33m\u001b[0m\u001b[0m\n",
      "\u001b[1;32mF:\\anaconda3\\lib\\site-packages\\mne\\utils\\check.py\u001b[0m in \u001b[0;36m_check_fname\u001b[1;34m(fname, overwrite, must_exist, name, need_dir)\u001b[0m\n\u001b[0;32m    184\u001b[0m                     f'{name} does not have read permissions: {fname}')\n\u001b[0;32m    185\u001b[0m     \u001b[1;32melif\u001b[0m \u001b[0mmust_exist\u001b[0m\u001b[1;33m:\u001b[0m\u001b[1;33m\u001b[0m\u001b[1;33m\u001b[0m\u001b[0m\n\u001b[1;32m--> 186\u001b[1;33m         \u001b[1;32mraise\u001b[0m \u001b[0mFileNotFoundError\u001b[0m\u001b[1;33m(\u001b[0m\u001b[1;34mf'{name} does not exist: {fname}'\u001b[0m\u001b[1;33m)\u001b[0m\u001b[1;33m\u001b[0m\u001b[1;33m\u001b[0m\u001b[0m\n\u001b[0m\u001b[0;32m    187\u001b[0m \u001b[1;33m\u001b[0m\u001b[0m\n\u001b[0;32m    188\u001b[0m     \u001b[1;32mreturn\u001b[0m \u001b[0mfname\u001b[0m\u001b[1;33m\u001b[0m\u001b[1;33m\u001b[0m\u001b[0m\n",
      "\u001b[1;31mFileNotFoundError\u001b[0m: File does not exist: F:\\GithubRep\\pybrain_mne\\eeg_montage_data\\sample_eeglab_epochs.set"
     ]
    }
   ],
   "source": [
    "epochs_fname = pathlib.Path('eeg_montage_data') / 'sample_eeglab_epochs.set'\n",
    "epochs = mne.read_epochs_eeglab(epochs_fname)"
   ]
  },
  {
   "cell_type": "code",
   "execution_count": null,
   "metadata": {},
   "outputs": [],
   "source": [
    "epochs.plot_sensors()"
   ]
  },
  {
   "cell_type": "markdown",
   "metadata": {},
   "source": [
    "## Load vendor-supplied montage"
   ]
  },
  {
   "cell_type": "code",
   "execution_count": 4,
   "metadata": {},
   "outputs": [
    {
     "data": {
      "text/plain": [
       "<Figure size 640x640 with 1 Axes>"
      ]
     },
     "execution_count": 4,
     "metadata": {},
     "output_type": "execute_result"
    }
   ],
   "source": [
    "montage_fname = pathlib.Path('eeg_montage_data') / 'achtiCHamp_64_channels_and_fiducials_Theta_Phi.txt'\n",
    "dig_montage = mne.channels.read_custom_montage(montage_fname)\n",
    "dig_montage.plot(sphere='auto')"
   ]
  },
  {
   "cell_type": "markdown",
   "metadata": {},
   "source": [
    "## Apply this montage to the loaded epochs"
   ]
  },
  {
   "cell_type": "code",
   "execution_count": 7,
   "metadata": {},
   "outputs": [
    {
     "data": {
      "text/plain": [
       "<EpochsEEGLAB |  335 events (all good), -0.76 - 2.56 sec, baseline off, ~108.9 MB, data loaded,\n",
       " '100': 56\n",
       " '120': 56\n",
       " '140': 56\n",
       " '160': 57\n",
       " '180': 55\n",
       " '200': 55>"
      ]
     },
     "execution_count": 7,
     "metadata": {},
     "output_type": "execute_result"
    }
   ],
   "source": [
    "epochs.set_montage(dig_montage)"
   ]
  },
  {
   "cell_type": "code",
   "execution_count": 10,
   "metadata": {},
   "outputs": [
    {
     "data": {
      "text/plain": [
       "<Figure size 640x640 with 1 Axes>"
      ]
     },
     "execution_count": 10,
     "metadata": {},
     "output_type": "execute_result"
    }
   ],
   "source": [
    "epochs.plot_sensors()"
   ]
  }
 ],
 "metadata": {
  "kernelspec": {
   "display_name": "Python 3",
   "language": "python",
   "name": "python3"
  },
  "language_info": {
   "codemirror_mode": {
    "name": "ipython",
    "version": 3
   },
   "file_extension": ".py",
   "mimetype": "text/x-python",
   "name": "python",
   "nbconvert_exporter": "python",
   "pygments_lexer": "ipython3",
   "version": "3.8.8"
  }
 },
 "nbformat": 4,
 "nbformat_minor": 4
}
