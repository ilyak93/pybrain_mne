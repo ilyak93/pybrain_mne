{
 "cells": [
  {
   "cell_type": "markdown",
   "metadata": {},
   "source": [
    "# Working with BIDS data"
   ]
  },
  {
   "cell_type": "code",
   "execution_count": 4,
   "metadata": {},
   "outputs": [],
   "source": [
    "import matplotlib\n",
    "import pathlib\n",
    "import pooch\n",
    "\n",
    "import mne\n",
    "import mne_bids\n",
    "\n",
    "matplotlib.use('Qt5Agg')"
   ]
  },
  {
   "cell_type": "markdown",
   "metadata": {},
   "source": [
    "## Read the input data we wish to convert to BIDS"
   ]
  },
  {
   "cell_type": "code",
   "execution_count": 5,
   "metadata": {},
   "outputs": [
    {
     "name": "stdout",
     "output_type": "stream",
     "text": [
      "Opening raw data file C:\\Users\\Ily\\mne_data\\MNE-sample-data\\MEG\\sample\\sample_audvis_raw.fif...\n",
      "    Read a total of 3 projection items:\n",
      "        PCA-v1 (1 x 102)  idle\n",
      "        PCA-v2 (1 x 102)  idle\n",
      "        PCA-v3 (1 x 102)  idle\n",
      "    Range : 25800 ... 192599 =     42.956 ...   320.670 secs\n",
      "Ready.\n",
      "320 events found\n",
      "Event IDs: [ 1  2  3  4  5 32]\n"
     ]
    }
   ],
   "source": [
    "sample_data_dir = mne.datasets.sample.data_path()\n",
    "sample_data_dir = pathlib.Path(sample_data_dir)\n",
    "\n",
    "raw_path = sample_data_dir / 'MEG' / 'sample' / 'sample_audvis_raw.fif'\n",
    "raw = mne.io.read_raw(raw_path)\n",
    "\n",
    "events = mne.find_events(raw)\n",
    "event_id = {\n",
    "    'Auditory/Left': 1,\n",
    "    'Auditory/Right': 2,\n",
    "    'Visual/Left': 3,\n",
    "    'Visual/Right': 4,\n",
    "    'Smiley': 5,\n",
    "    'Button': 32\n",
    "}"
   ]
  },
  {
   "cell_type": "markdown",
   "metadata": {},
   "source": [
    "## Write the raw data to BIDS!"
   ]
  },
  {
   "cell_type": "markdown",
   "metadata": {},
   "source": [
    "We need to specify the power line frequency."
   ]
  },
  {
   "cell_type": "code",
   "execution_count": 6,
   "metadata": {},
   "outputs": [],
   "source": [
    "raw.info['line_freq'] = 60"
   ]
  },
  {
   "cell_type": "markdown",
   "metadata": {},
   "source": [
    "Now, actually write the data."
   ]
  },
  {
   "cell_type": "code",
   "execution_count": 9,
   "metadata": {},
   "outputs": [
    {
     "name": "stdout",
     "output_type": "stream",
     "text": [
      "Opening raw data file C:\\Users\\Ily\\mne_data\\MNE-sample-data\\MEG\\sample\\sample_audvis_raw.fif...\n",
      "    Read a total of 3 projection items:\n",
      "        PCA-v1 (1 x 102)  idle\n",
      "        PCA-v2 (1 x 102)  idle\n",
      "        PCA-v3 (1 x 102)  idle\n",
      "    Range : 25800 ... 192599 =     42.956 ...   320.670 secs\n",
      "Ready.\n",
      "\n",
      "Writing 'out_data\\sample_BIDS\\participants.tsv'...\n",
      "\n",
      "participant_id\tage\tsex\thand\n",
      "sub-01\tn/a\tn/a\tn/a\n",
      "sub-02\tn/a\tn/a\tn/a\n",
      "\n",
      "Writing 'out_data\\sample_BIDS\\participants.json'...\n",
      "\n",
      "{\n",
      "    \"participant_id\": {\n",
      "        \"Description\": \"Unique participant identifier\"\n",
      "    },\n",
      "    \"age\": {\n",
      "        \"Description\": \"Age of the participant at time of testing\",\n",
      "        \"Units\": \"years\"\n",
      "    },\n",
      "    \"sex\": {\n",
      "        \"Description\": \"Biological sex of the participant\",\n",
      "        \"Levels\": {\n",
      "            \"F\": \"female\",\n",
      "            \"M\": \"male\"\n",
      "        }\n",
      "    },\n",
      "    \"hand\": {\n",
      "        \"Description\": \"Handedness of the participant\",\n",
      "        \"Levels\": {\n",
      "            \"R\": \"right\",\n",
      "            \"L\": \"left\",\n",
      "            \"A\": \"ambidextrous\"\n",
      "        }\n",
      "    }\n",
      "}\n",
      "\n",
      "Writing 'out_data\\sample_BIDS\\sub-02\\ses-01\\meg\\sub-02_ses-01_coordsystem.json'...\n",
      "\n",
      "{\n",
      "    \"MEGCoordinateSystem\": \"ElektaNeuromag\",\n",
      "    \"MEGCoordinateUnits\": \"m\",\n",
      "    \"MEGCoordinateSystemDescription\": \"RAS orientation and the origin between the ears\",\n",
      "    \"HeadCoilCoordinates\": {\n",
      "        \"NAS\": [\n",
      "            3.725290298461914e-09,\n",
      "            0.10260561108589172,\n",
      "            4.190951585769653e-09\n",
      "        ],\n",
      "        \"LPA\": [\n",
      "            -0.07137660682201385,\n",
      "            0.0,\n",
      "            5.122274160385132e-09\n",
      "        ],\n",
      "        \"RPA\": [\n",
      "            0.07526767998933792,\n",
      "            0.0,\n",
      "            5.587935447692871e-09\n",
      "        ],\n",
      "        \"coil1\": [\n",
      "            0.032922741025686264,\n",
      "            0.09897983074188232,\n",
      "            0.07984329760074615\n",
      "        ],\n",
      "        \"coil2\": [\n",
      "            -0.06998106092214584,\n",
      "            0.06771647930145264,\n",
      "            0.06888450682163239\n",
      "        ],\n",
      "        \"coil3\": [\n",
      "            -0.07260829955339432,\n",
      "            -0.02086828649044037,\n",
      "            0.0971473976969719\n",
      "        ],\n",
      "        \"coil4\": [\n",
      "            0.04996863007545471,\n",
      "            -0.007233052980154753,\n",
      "            0.1228904277086258\n",
      "        ]\n",
      "    },\n",
      "    \"HeadCoilCoordinateSystem\": \"ElektaNeuromag\",\n",
      "    \"HeadCoilCoordinateUnits\": \"m\",\n",
      "    \"AnatomicalLandmarkCoordinates\": {\n",
      "        \"NAS\": [\n",
      "            3.725290298461914e-09,\n",
      "            0.10260561108589172,\n",
      "            4.190951585769653e-09\n",
      "        ],\n",
      "        \"LPA\": [\n",
      "            -0.07137660682201385,\n",
      "            0.0,\n",
      "            5.122274160385132e-09\n",
      "        ],\n",
      "        \"RPA\": [\n",
      "            0.07526767998933792,\n",
      "            0.0,\n",
      "            5.587935447692871e-09\n",
      "        ]\n",
      "    },\n",
      "    \"AnatomicalLandmarkCoordinateSystem\": \"ElektaNeuromag\",\n",
      "    \"AnatomicalLandmarkCoordinateUnits\": \"m\"\n",
      "}\n",
      "\n",
      "Writing 'out_data\\sample_BIDS\\sub-02\\ses-01\\meg\\sub-02_ses-01_task-audiovisual_run-01_events.tsv'...\n",
      "\n",
      "onset\tduration\ttrial_type\tvalue\tsample\n",
      "3.6246181587150867\t0.0\tAuditory/Right\t2\t2177\n",
      "4.237323479067476\t0.0\tVisual/Left\t3\t2545\n",
      "4.946596485779753\t0.0\tAuditory/Left\t1\t2971\n",
      "5.692498614904401\t0.0\tVisual/Right\t4\t3419\n",
      "6.41342634238425\t0.0\tAuditory/Right\t2\t3852\n",
      "\n",
      "Writing 'out_data\\sample_BIDS\\dataset_description.json'...\n",
      "\n",
      "{\n",
      "    \"Name\": \" \",\n",
      "    \"BIDSVersion\": \"1.6.0\",\n",
      "    \"DatasetType\": \"raw\",\n",
      "    \"Authors\": [\n",
      "        \"[Unspecified]\"\n",
      "    ]\n",
      "}\n",
      "\n",
      "Writing 'out_data\\sample_BIDS\\sub-02\\ses-01\\meg\\sub-02_ses-01_task-audiovisual_run-01_meg.json'...\n",
      "\n",
      "{\n",
      "    \"TaskName\": \"audiovisual\",\n",
      "    \"Manufacturer\": \"Elekta\",\n",
      "    \"PowerLineFrequency\": 60,\n",
      "    \"SamplingFrequency\": 600.614990234375,\n",
      "    \"SoftwareFilters\": \"n/a\",\n",
      "    \"RecordingDuration\": 277.7136813300495,\n",
      "    \"RecordingType\": \"continuous\",\n",
      "    \"DewarPosition\": \"n/a\",\n",
      "    \"DigitizedLandmarks\": true,\n",
      "    \"DigitizedHeadPoints\": true,\n",
      "    \"MEGChannelCount\": 306,\n",
      "    \"MEGREFChannelCount\": 0,\n",
      "    \"ContinuousHeadLocalization\": false,\n",
      "    \"HeadCoilFrequency\": [],\n",
      "    \"EEGChannelCount\": 60,\n",
      "    \"EOGChannelCount\": 1,\n",
      "    \"ECGChannelCount\": 0,\n",
      "    \"EMGChannelCount\": 0,\n",
      "    \"MiscChannelCount\": 0,\n",
      "    \"TriggerChannelCount\": 9\n",
      "}\n",
      "\n",
      "Writing 'out_data\\sample_BIDS\\sub-02\\ses-01\\meg\\sub-02_ses-01_task-audiovisual_run-01_channels.tsv'...\n",
      "\n",
      "name\ttype\tunits\tlow_cutoff\thigh_cutoff\tdescription\tsampling_frequency\tstatus\tstatus_description\n",
      "MEG 0113\tMEGGRADPLANAR\tT/m\t0.10000000149011612\t172.17630004882812\tPlanar Gradiometer\t600.614990234375\tgood\tn/a\n",
      "MEG 0112\tMEGGRADPLANAR\tT/m\t0.10000000149011612\t172.17630004882812\tPlanar Gradiometer\t600.614990234375\tgood\tn/a\n",
      "MEG 0111\tMEGMAG\tT\t0.10000000149011612\t172.17630004882812\tMagnetometer\t600.614990234375\tgood\tn/a\n",
      "MEG 0122\tMEGGRADPLANAR\tT/m\t0.10000000149011612\t172.17630004882812\tPlanar Gradiometer\t600.614990234375\tgood\tn/a\n",
      "MEG 0123\tMEGGRADPLANAR\tT/m\t0.10000000149011612\t172.17630004882812\tPlanar Gradiometer\t600.614990234375\tgood\tn/a\n",
      "Copying data files to sub-02_ses-01_task-audiovisual_run-01_meg.fif\n",
      "Reserving possible split file sub-02_ses-01_task-audiovisual_run-01_split-01_meg.fif\n",
      "Writing F:\\GithubRep\\pybrain_mne\\out_data\\sample_BIDS\\sub-02\\ses-01\\meg\\sub-02_ses-01_task-audiovisual_run-01_meg.fif\n",
      "Closing F:\\GithubRep\\pybrain_mne\\out_data\\sample_BIDS\\sub-02\\ses-01\\meg\\sub-02_ses-01_task-audiovisual_run-01_meg.fif\n",
      "[done]\n",
      "\n",
      "Writing 'out_data\\sample_BIDS\\sub-02\\ses-01\\sub-02_ses-01_scans.tsv'...\n",
      "\n",
      "filename\tacq_time\n",
      "meg/sub-02_ses-01_task-audiovisual_run-01_meg.fif\t2002-12-03T19:01:10.720100Z\n",
      "Wrote out_data\\sample_BIDS\\sub-02\\ses-01\\sub-02_ses-01_scans.tsv entry with meg\\sub-02_ses-01_task-audiovisual_run-01_meg.fif.\n"
     ]
    },
    {
     "data": {
      "text/plain": [
       "BIDSPath(\n",
       "root: out_data/sample_BIDS\n",
       "datatype: meg\n",
       "basename: sub-02_ses-01_task-audiovisual_run-01_meg.fif)"
      ]
     },
     "execution_count": 9,
     "metadata": {},
     "output_type": "execute_result"
    }
   ],
   "source": [
    "out_path = pathlib.Path('out_data/sample_BIDS')\n",
    "\n",
    "bids_path = mne_bids.BIDSPath(subject='02',\n",
    "                              session='01',\n",
    "                              task='audiovisual',\n",
    "                              run='01',\n",
    "                              root=out_path)\n",
    "\n",
    "mne_bids.write_raw_bids(raw, bids_path=bids_path, events_data=events,\n",
    "                        event_id=event_id, overwrite=True)"
   ]
  },
  {
   "cell_type": "markdown",
   "metadata": {},
   "source": [
    "## Write MEGIN / Elekta / NeuroMag fine-calibration and crosstalk files"
   ]
  },
  {
   "cell_type": "code",
   "execution_count": 10,
   "metadata": {},
   "outputs": [
    {
     "name": "stdout",
     "output_type": "stream",
     "text": [
      "Writing fine-calibration file to out_data/sample_BIDS/sub-02/ses-01/meg/sub-02_ses-01_acq-calibration_meg.dat\n",
      "Writing crosstalk file to out_data/sample_BIDS/sub-02/ses-01/meg/sub-02_ses-01_acq-crosstalk_meg.fif\n"
     ]
    }
   ],
   "source": [
    "cal_path = sample_data_dir / 'SSS' / 'sss_cal_mgh.dat'\n",
    "ct_path = sample_data_dir / 'SSS' / 'ct_sparse_mgh.fif'\n",
    "\n",
    "mne_bids.write_meg_calibration(cal_path, bids_path=bids_path)\n",
    "mne_bids.write_meg_crosstalk(ct_path, bids_path=bids_path)\n"
   ]
  },
  {
   "cell_type": "markdown",
   "metadata": {},
   "source": [
    "<div class=\"alert alert-success\">\n",
    "    <b>EXERCISE</b>:\n",
    "     <ul>\n",
    "         <li>Write the same raw data again, but this time act as if it were from a different subject – subject \"02\".</li>\n",
    "    </ul>\n",
    "</div>"
   ]
  },
  {
   "cell_type": "markdown",
   "metadata": {},
   "source": [
    "## Print the created file & directory structure"
   ]
  },
  {
   "cell_type": "code",
   "execution_count": 11,
   "metadata": {},
   "outputs": [
    {
     "name": "stdout",
     "output_type": "stream",
     "text": [
      "|sample_BIDS\\\n",
      "|--- README\n",
      "|--- dataset_description.json\n",
      "|--- participants.json\n",
      "|--- participants.tsv\n",
      "|--- sub-01\\\n",
      "|------ ses-01\\\n",
      "|--------- sub-01_ses-01_scans.tsv\n",
      "|--------- meg\\\n",
      "|------------ sub-01_ses-01_acq-calibration_meg.dat\n",
      "|------------ sub-01_ses-01_acq-crosstalk_meg.fif\n",
      "|------------ sub-01_ses-01_coordsystem.json\n",
      "|------------ sub-01_ses-01_task-audiovisual_run-01_channels.tsv\n",
      "|------------ sub-01_ses-01_task-audiovisual_run-01_events.tsv\n",
      "|------------ sub-01_ses-01_task-audiovisual_run-01_meg.fif\n",
      "|------------ sub-01_ses-01_task-audiovisual_run-01_meg.json\n",
      "|--- sub-02\\\n",
      "|------ ses-01\\\n",
      "|--------- sub-02_ses-01_scans.tsv\n",
      "|--------- meg\\\n",
      "|------------ sub-02_ses-01_acq-calibration_meg.dat\n",
      "|------------ sub-02_ses-01_acq-crosstalk_meg.fif\n",
      "|------------ sub-02_ses-01_coordsystem.json\n",
      "|------------ sub-02_ses-01_task-audiovisual_run-01_channels.tsv\n",
      "|------------ sub-02_ses-01_task-audiovisual_run-01_events.tsv\n",
      "|------------ sub-02_ses-01_task-audiovisual_run-01_meg.fif\n",
      "|------------ sub-02_ses-01_task-audiovisual_run-01_meg.json\n"
     ]
    }
   ],
   "source": [
    "mne_bids.print_dir_tree(out_path)"
   ]
  },
  {
   "cell_type": "markdown",
   "metadata": {},
   "source": [
    "## Generate a data summary"
   ]
  },
  {
   "cell_type": "code",
   "execution_count": 12,
   "metadata": {},
   "outputs": [
    {
     "name": "stdout",
     "output_type": "stream",
     "text": [
      "Summarizing participants.tsv out_data\\sample_BIDS\\participants.tsv...\n",
      "Summarizing scans.tsv files [WindowsPath('out_data/sample_BIDS/sub-01/ses-01/sub-01_ses-01_scans.tsv'), WindowsPath('out_data/sample_BIDS/sub-02/ses-01/sub-02_ses-01_scans.tsv')]...\n",
      "The participant template found: sex were all unknown;\n",
      "handedness were all unknown; ages all unknown\n",
      "This dataset was created by [Unspecified] and conforms to BIDS version 1.6.0.\n",
      "This report was generated with MNE-BIDS (https://doi.org/10.21105/joss.01896).\n",
      "The dataset consists of 2 participants (sex were all unknown; handedness were\n",
      "all unknown; ages all unknown) and 1 recording sessions: 01. Data was recorded\n",
      "using a MEG system (Elekta manufacturer) sampled at 600.61 Hz with line noise at\n",
      "60 Hz. There were 2 scans in total. Recording durations ranged from 277.71 to\n",
      "277.71 seconds (mean = 277.71, std = 0.0), for a total of 555.43 seconds of data\n",
      "recorded over all scans. For each dataset, there were on average 376.0 (std =\n",
      "0.0) recording channels per scan, out of which 374.0 (std = 0.0) were used in\n",
      "analysis (2.0 +/- 0.0 were removed from analysis).\n"
     ]
    }
   ],
   "source": [
    "print(mne_bids.make_report(out_path))"
   ]
  },
  {
   "cell_type": "markdown",
   "metadata": {},
   "source": [
    "## Reading BIDS data\n",
    "\n",
    "Let's try to read back the data we just stored according to the BIDS specification."
   ]
  },
  {
   "cell_type": "code",
   "execution_count": 23,
   "metadata": {},
   "outputs": [
    {
     "name": "stdout",
     "output_type": "stream",
     "text": [
      "Opening raw data file out_data\\sample_BIDS\\sub-01\\ses-01\\meg\\sub-01_ses-01_task-audiovisual_run-01_meg.fif...\n",
      "    Read a total of 3 projection items:\n",
      "        PCA-v1 (1 x 102)  idle\n",
      "        PCA-v2 (1 x 102)  idle\n",
      "        PCA-v3 (1 x 102)  idle\n",
      "    Range : 25800 ... 192599 =     42.956 ...   320.670 secs\n",
      "Ready.\n",
      "Reading events from out_data\\sample_BIDS\\sub-01\\ses-01\\meg\\sub-01_ses-01_task-audiovisual_run-01_events.tsv.\n",
      "Reading channel info from out_data\\sample_BIDS\\sub-01\\ses-01\\meg\\sub-01_ses-01_task-audiovisual_run-01_channels.tsv.\n"
     ]
    },
    {
     "name": "stderr",
     "output_type": "stream",
     "text": [
      "<ipython-input-23-1122cbf357fe>:10: RuntimeWarning: The unit for channel(s) STI 001, STI 002, STI 003, STI 004, STI 005, STI 006, STI 014, STI 015, STI 016 has changed from V to NA.\n",
      "  raw = mne_bids.read_raw_bids(bids_path)\n"
     ]
    }
   ],
   "source": [
    "bids_root = pathlib.Path('out_data/sample_BIDS')\n",
    "\n",
    "bids_path = mne_bids.BIDSPath(subject='01',\n",
    "                              session='01',\n",
    "                              task='audiovisual',\n",
    "                              run='01',\n",
    "                              datatype='meg',\n",
    "                              root=bids_root)\n",
    "\n",
    "raw = mne_bids.read_raw_bids(bids_path)"
   ]
  },
  {
   "cell_type": "code",
   "execution_count": 25,
   "metadata": {},
   "outputs": [
    {
     "data": {
      "text/plain": [
       "<MNEBrowseFigure size 800x800 with 5 Axes>"
      ]
     },
     "execution_count": 25,
     "metadata": {},
     "output_type": "execute_result"
    },
    {
     "name": "stdout",
     "output_type": "stream",
     "text": [
      "Channels marked as bad: ['MEG 2443', 'EEG 053']\n"
     ]
    }
   ],
   "source": [
    "raw.plot()"
   ]
  },
  {
   "cell_type": "markdown",
   "metadata": {},
   "source": [
    "## Events are stored as annotations – but we convert between the two."
   ]
  },
  {
   "cell_type": "code",
   "execution_count": 20,
   "metadata": {},
   "outputs": [
    {
     "data": {
      "text/plain": [
       "OrderedDict([('onset', 46.58058882905339),\n",
       "             ('duration', 0.0),\n",
       "             ('description', 'Auditory/Right'),\n",
       "             ('orig_time',\n",
       "              datetime.datetime(2002, 12, 3, 19, 1, 10, 720100, tzinfo=datetime.timezone.utc))])"
      ]
     },
     "execution_count": 20,
     "metadata": {},
     "output_type": "execute_result"
    }
   ],
   "source": [
    "raw.annotations[0]"
   ]
  },
  {
   "cell_type": "code",
   "execution_count": 21,
   "metadata": {},
   "outputs": [
    {
     "name": "stdout",
     "output_type": "stream",
     "text": [
      "Used Annotations descriptions: ['Auditory/Left', 'Auditory/Right', 'Button', 'Smiley', 'Visual/Left', 'Visual/Right']\n"
     ]
    }
   ],
   "source": [
    "events, event_id = mne.events_from_annotations(raw)"
   ]
  },
  {
   "cell_type": "code",
   "execution_count": 22,
   "metadata": {},
   "outputs": [
    {
     "data": {
      "text/plain": [
       "<Figure size 640x480 with 1 Axes>"
      ]
     },
     "execution_count": 22,
     "metadata": {},
     "output_type": "execute_result"
    }
   ],
   "source": [
    "mne.viz.plot_events(events, event_id=event_id, sfreq=raw.info['sfreq'])"
   ]
  },
  {
   "cell_type": "markdown",
   "metadata": {},
   "source": [
    "## Fine the MEG fine-calibration and crosstalk files"
   ]
  },
  {
   "cell_type": "code",
   "execution_count": 26,
   "metadata": {},
   "outputs": [
    {
     "data": {
      "text/plain": [
       "WindowsPath('out_data/sample_BIDS/sub-01/ses-01/meg/sub-01_ses-01_acq-calibration_meg.dat')"
      ]
     },
     "execution_count": 26,
     "metadata": {},
     "output_type": "execute_result"
    }
   ],
   "source": [
    "bids_path.meg_calibration_fpath"
   ]
  },
  {
   "cell_type": "code",
   "execution_count": 27,
   "metadata": {},
   "outputs": [
    {
     "data": {
      "text/plain": [
       "WindowsPath('out_data/sample_BIDS/sub-01/ses-01/meg/sub-01_ses-01_acq-crosstalk_meg.fif')"
      ]
     },
     "execution_count": 27,
     "metadata": {},
     "output_type": "execute_result"
    }
   ],
   "source": [
    "bids_path.meg_crosstalk_fpath"
   ]
  },
  {
   "cell_type": "code",
   "execution_count": null,
   "metadata": {},
   "outputs": [],
   "source": []
  }
 ],
 "metadata": {
  "kernelspec": {
   "display_name": "Python 3",
   "language": "python",
   "name": "python3"
  },
  "language_info": {
   "codemirror_mode": {
    "name": "ipython",
    "version": 3
   },
   "file_extension": ".py",
   "mimetype": "text/x-python",
   "name": "python",
   "nbconvert_exporter": "python",
   "pygments_lexer": "ipython3",
   "version": "3.8.8"
  }
 },
 "nbformat": 4,
 "nbformat_minor": 4
}
